{
 "cells": [
  {
   "cell_type": "markdown",
   "id": "139336a8",
   "metadata": {},
   "source": [
    "## The Basics \n",
    "\n"
   ]
  },
  {
   "cell_type": "code",
   "execution_count": 1,
   "id": "4e3dedcb",
   "metadata": {},
   "outputs": [],
   "source": [
    "import numpy as np"
   ]
  },
  {
   "cell_type": "code",
   "execution_count": 2,
   "id": "1cf6bacb",
   "metadata": {},
   "outputs": [
    {
     "name": "stdout",
     "output_type": "stream",
     "text": [
      "[1 2 3]\n",
      "[[9. 8. 7.]\n",
      " [6. 5. 2.]]\n"
     ]
    }
   ],
   "source": [
    "a = np.array([1,2,3],dtype='int32')\n",
    "print(a)\n",
    "b = np.array([[9.0,8.0,7.0],[6.0,5.0,2.0]])\n",
    "print(b)\n"
   ]
  },
  {
   "cell_type": "code",
   "execution_count": 3,
   "id": "318c9efc",
   "metadata": {},
   "outputs": [
    {
     "data": {
      "text/plain": [
       "2"
      ]
     },
     "execution_count": 3,
     "metadata": {},
     "output_type": "execute_result"
    }
   ],
   "source": [
    "#get dimesion\n",
    "a.ndim\n",
    "b.ndim\n"
   ]
  },
  {
   "cell_type": "code",
   "execution_count": 4,
   "id": "abcc4ac6",
   "metadata": {},
   "outputs": [
    {
     "name": "stdout",
     "output_type": "stream",
     "text": [
      "(3,)\n",
      "(2, 3)\n"
     ]
    }
   ],
   "source": [
    "#get shape(how many row and columns consists a matrix)\n",
    "print(a.shape)\n",
    "print(b.shape)  #(R X C)"
   ]
  },
  {
   "cell_type": "code",
   "execution_count": 5,
   "id": "e3b99aae",
   "metadata": {
    "scrolled": true
   },
   "outputs": [
    {
     "data": {
      "text/plain": [
       "4"
      ]
     },
     "execution_count": 5,
     "metadata": {},
     "output_type": "execute_result"
    }
   ],
   "source": [
    "#get type and size\n",
    "a.dtype\n",
    "a.itemsize"
   ]
  },
  {
   "cell_type": "code",
   "execution_count": 6,
   "id": "31d96666",
   "metadata": {},
   "outputs": [
    {
     "data": {
      "text/plain": [
       "6"
      ]
     },
     "execution_count": 6,
     "metadata": {},
     "output_type": "execute_result"
    }
   ],
   "source": [
    "#get size(This means that total elements inside the array)\n",
    "b.size"
   ]
  },
  {
   "cell_type": "markdown",
   "id": "a28dc372",
   "metadata": {},
   "source": [
    "## Accessing/Changing Specific Elements,rows,columns"
   ]
  },
  {
   "cell_type": "code",
   "execution_count": 7,
   "id": "daf49d8b",
   "metadata": {},
   "outputs": [
    {
     "name": "stdout",
     "output_type": "stream",
     "text": [
      "[[ 2  3  4  5]\n",
      " [ 6  7  8  9]\n",
      " [10 11 12 13]]\n"
     ]
    }
   ],
   "source": [
    "#2D array and its all about\n",
    "#Initialization\n",
    "c = np.array([[2,3,4,5],[6,7,8,9],[10,11,12,13]])\n",
    "print(c)"
   ]
  },
  {
   "cell_type": "code",
   "execution_count": 8,
   "id": "0aa70d36",
   "metadata": {},
   "outputs": [
    {
     "data": {
      "text/plain": [
       "5"
      ]
     },
     "execution_count": 8,
     "metadata": {},
     "output_type": "execute_result"
    }
   ],
   "source": [
    "#specific data \n",
    "c[0,-1] #  v\n"
   ]
  },
  {
   "cell_type": "code",
   "execution_count": 9,
   "id": "d1d1294c",
   "metadata": {},
   "outputs": [
    {
     "name": "stdout",
     "output_type": "stream",
     "text": [
      "[2 3 4 5]\n",
      "[ 3  7 11]\n"
     ]
    }
   ],
   "source": [
    "#specified row and column\n",
    "print(c[0,:])\n",
    "print(c[:,1])"
   ]
  },
  {
   "cell_type": "code",
   "execution_count": 10,
   "id": "26cf5c45",
   "metadata": {},
   "outputs": [
    {
     "name": "stdout",
     "output_type": "stream",
     "text": [
      "[[ 2  5]\n",
      " [ 6  9]\n",
      " [10 13]]\n"
     ]
    }
   ],
   "source": [
    "#iterating with steps\n",
    "#syntax: array_name[start:end:step]\n",
    "print(c[:,::3])"
   ]
  },
  {
   "cell_type": "code",
   "execution_count": 11,
   "id": "17e2e1ae",
   "metadata": {},
   "outputs": [
    {
     "name": "stdout",
     "output_type": "stream",
     "text": [
      "Before Changing: \n",
      "\n",
      "[[ 2  3  4  5]\n",
      " [ 6  7  8  9]\n",
      " [10 11 12 13]]\n",
      "After Changing Values: \n",
      "[[  2   3 101   5]\n",
      " [  0   7 102   9]\n",
      " [ 10  11 103  13]]\n"
     ]
    }
   ],
   "source": [
    "#Changing Array values\n",
    "print(\"Before Changing: \\n\")\n",
    "print(c)\n",
    "c[:,2] = [101,102,103] #can be change full row or column in a single statements[if i put 1 then all data change into 1]\n",
    "c[1,0] = 0 #only one value will be change\n",
    "print(f\"After Changing Values: \\n{c}\")\n"
   ]
  },
  {
   "cell_type": "markdown",
   "id": "3d6a55c0",
   "metadata": {},
   "source": [
    "#### 3D array"
   ]
  },
  {
   "cell_type": "code",
   "execution_count": 12,
   "id": "515efd8a",
   "metadata": {},
   "outputs": [
    {
     "name": "stdout",
     "output_type": "stream",
     "text": [
      "[[[ 1  2  4]\n",
      "  [ 4  5  6]]\n",
      "\n",
      " [[ 8  9 20]\n",
      "  [22 23 24]]]\n"
     ]
    }
   ],
   "source": [
    "#initialization\n",
    "f = np.array([[[1,2,4],[4,5,6]],[[8,9,20],[22,23,24]]])\n",
    "print(f)\n"
   ]
  },
  {
   "cell_type": "code",
   "execution_count": 13,
   "id": "37ad9d68",
   "metadata": {},
   "outputs": [
    {
     "name": "stdout",
     "output_type": "stream",
     "text": [
      "6\n",
      "[4 5 6]\n",
      "[4 5 6]\n"
     ]
    }
   ],
   "source": [
    "#get specified data \n",
    "print(f[0,1,-1]) \n",
    "print(f[0,1,:]) \n",
    "print(f[0,1,]) "
   ]
  },
  {
   "cell_type": "code",
   "execution_count": 14,
   "id": "38c0d8a2",
   "metadata": {},
   "outputs": [
    {
     "name": "stdout",
     "output_type": "stream",
     "text": [
      "[[[  1   2 100]\n",
      "  [  4   5   6]]\n",
      "\n",
      " [[101 102 103]\n",
      "  [104 105 106]]]\n"
     ]
    }
   ],
   "source": [
    "#array elements change/Replace\n",
    "f[0,0,2] = 100\n",
    "f[1,:,:] = [[101,102,103],[104,105,106]]\n",
    "print(f)\n"
   ]
  },
  {
   "cell_type": "code",
   "execution_count": 15,
   "id": "3610a9c3",
   "metadata": {},
   "outputs": [
    {
     "name": "stdout",
     "output_type": "stream",
     "text": [
      "[[0. 0. 0.]\n",
      " [0. 0. 0.]\n",
      " [0. 0. 0.]]\n"
     ]
    },
    {
     "data": {
      "text/plain": [
       "array([[0., 0., 0.],\n",
       "       [0., 0., 0.],\n",
       "       [0., 0., 0.]])"
      ]
     },
     "execution_count": 15,
     "metadata": {},
     "output_type": "execute_result"
    }
   ],
   "source": [
    "#all zero's matrix\n",
    "arr= np.zeros((3,3))\n",
    "print(arr)\n",
    "np.zeros(arr.shape)"
   ]
  },
  {
   "cell_type": "code",
   "execution_count": 16,
   "id": "3e6968ba",
   "metadata": {},
   "outputs": [
    {
     "data": {
      "text/plain": [
       "array([[1, 1, 1],\n",
       "       [1, 1, 1],\n",
       "       [1, 1, 1]])"
      ]
     },
     "execution_count": 16,
     "metadata": {},
     "output_type": "execute_result"
    }
   ],
   "source": [
    "#all 1's matrix\n",
    "np.ones((arr.shape),dtype = \"int32\")"
   ]
  },
  {
   "cell_type": "code",
   "execution_count": 17,
   "id": "8d215381",
   "metadata": {},
   "outputs": [
    {
     "data": {
      "text/plain": [
       "array([[[46, 46, 46],\n",
       "        [46, 46, 46],\n",
       "        [46, 46, 46]],\n",
       "\n",
       "       [[46, 46, 46],\n",
       "        [46, 46, 46],\n",
       "        [46, 46, 46]]])"
      ]
     },
     "execution_count": 17,
     "metadata": {},
     "output_type": "execute_result"
    }
   ],
   "source": [
    "#Fill with Any other number\n",
    "np.full((2,3,3),46)"
   ]
  },
  {
   "cell_type": "code",
   "execution_count": 18,
   "id": "c1675cde",
   "metadata": {},
   "outputs": [
    {
     "data": {
      "text/plain": [
       "array([[3, 3, 3],\n",
       "       [3, 3, 3],\n",
       "       [3, 3, 3]])"
      ]
     },
     "execution_count": 18,
     "metadata": {},
     "output_type": "execute_result"
    }
   ],
   "source": [
    "#any other number (full like)\n",
    "np.full_like(arr,3,dtype = \"int32\") #Initially it is in double data types\n",
    "#it creates a array which is already exists. we just create a different array with the size of the previous \n",
    "#array. and fill with a value\n",
    "\n"
   ]
  },
  {
   "cell_type": "code",
   "execution_count": 46,
   "id": "dfcefae8",
   "metadata": {},
   "outputs": [
    {
     "name": "stdout",
     "output_type": "stream",
     "text": [
      "[[0.94960938 0.70848094 0.92522947]\n",
      " [0.60543537 0.03584464 0.93269721]\n",
      " [0.78217524 0.48052509 0.98190136]]\n"
     ]
    }
   ],
   "source": [
    "x = np.random.rand(3)\n",
    "print(x)"
   ]
  },
  {
   "cell_type": "code",
   "execution_count": 42,
   "id": "454daea4",
   "metadata": {},
   "outputs": [
    {
     "data": {
      "text/plain": [
       "array([[0.88710043, 0.95683273, 0.26199655, 0.96191357],\n",
       "       [0.34061037, 0.73449985, 0.42749946, 0.51323242]])"
      ]
     },
     "execution_count": 42,
     "metadata": {},
     "output_type": "execute_result"
    }
   ],
   "source": [
    "#random number generating in array\n",
    "np.random.rand(2,4)"
   ]
  },
  {
   "cell_type": "code",
   "execution_count": 20,
   "id": "67251285",
   "metadata": {},
   "outputs": [
    {
     "name": "stdout",
     "output_type": "stream",
     "text": [
      "[[1 0 0]\n",
      " [0 0 0]\n",
      " [4 3 6]]\n",
      "\n",
      "\n",
      "[[5 5 6 6]\n",
      " [6 4 6 5]\n",
      " [4 4 4 5]\n",
      " [6 4 6 4]]\n"
     ]
    }
   ],
   "source": [
    "#random integer value with range \n",
    "z=np.random.randint(7,size=(3,3))\n",
    "print(z)\n",
    "print(\"\\n\")\n",
    "z = np.random.randint(4,7,size = (4,4))\n",
    "print(z)"
   ]
  },
  {
   "cell_type": "code",
   "execution_count": 21,
   "id": "19844159",
   "metadata": {},
   "outputs": [
    {
     "name": "stdout",
     "output_type": "stream",
     "text": [
      "[[1. 0. 0. 0.]\n",
      " [0. 1. 0. 0.]\n",
      " [0. 0. 1. 0.]\n",
      " [0. 0. 0. 1.]]\n"
     ]
    }
   ],
   "source": [
    "#identity Matrix\n",
    "z=np.identity(4)\n",
    "print(z)"
   ]
  },
  {
   "cell_type": "code",
   "execution_count": 37,
   "id": "3b333b7b",
   "metadata": {},
   "outputs": [
    {
     "data": {
      "text/plain": [
       "array([[0., 0., 0.],\n",
       "       [0., 0., 0.],\n",
       "       [0., 0., 0.],\n",
       "       [0., 9., 0.],\n",
       "       [0., 9., 0.],\n",
       "       [0., 9., 0.],\n",
       "       [0., 0., 0.],\n",
       "       [0., 0., 0.],\n",
       "       [0., 0., 0.]])"
      ]
     },
     "execution_count": 37,
     "metadata": {},
     "output_type": "execute_result"
    }
   ],
   "source": [
    "np.repeat(z,3,axis=0)"
   ]
  },
  {
   "cell_type": "code",
   "execution_count": 38,
   "id": "d5687b89",
   "metadata": {},
   "outputs": [
    {
     "name": "stdout",
     "output_type": "stream",
     "text": [
      "[[1 1 1 1 1]\n",
      " [1 0 0 0 1]\n",
      " [1 0 9 0 1]\n",
      " [1 0 0 0 1]\n",
      " [1 1 1 1 1]]\n"
     ]
    }
   ],
   "source": [
    "A = np.ones((5,5),dtype = \"int32\")\n",
    "z = np.zeros((3,3))\n",
    "z[1,1] = 9\n",
    "A[1:4,1:4] = z\n",
    "print(A)"
   ]
  },
  {
   "cell_type": "markdown",
   "id": "e7133d3e",
   "metadata": {},
   "source": [
    "### Numpy Searching\n"
   ]
  },
  {
   "cell_type": "code",
   "execution_count": null,
   "id": "3f072be4",
   "metadata": {},
   "outputs": [],
   "source": []
  },
  {
   "cell_type": "code",
   "execution_count": 24,
   "id": "7950c5f6",
   "metadata": {},
   "outputs": [
    {
     "name": "stdout",
     "output_type": "stream",
     "text": [
      "(array([3, 5, 6], dtype=int64),)\n"
     ]
    }
   ],
   "source": [
    "arr = np.array([1, 2, 3, 4, 5, 4, 4])\n",
    "x = np.where(arr==4)\n",
    "print(x)"
   ]
  },
  {
   "cell_type": "markdown",
   "id": "d727cbc3",
   "metadata": {},
   "source": [
    "y=[]\n",
    "for element in arr:\n",
    "    if (element==4):\n",
    "        y.append(True)\n",
    "        \n",
    "    else :\n",
    "        y.append(False)\n",
    "print(y)\n",
    "print(*arr[y])\n"
   ]
  },
  {
   "cell_type": "markdown",
   "id": "50b55c0e",
   "metadata": {},
   "source": [
    "### copying arrays\n"
   ]
  },
  {
   "cell_type": "code",
   "execution_count": 25,
   "id": "539d2ab9",
   "metadata": {},
   "outputs": [
    {
     "name": "stdout",
     "output_type": "stream",
     "text": [
      "[200   2   3   4]\n",
      "[200   2   3   4]\n"
     ]
    }
   ],
   "source": [
    "a = np.array([1,2,3,4])\n",
    "b = a # it will work like view() function. if we change any elements from original. it will affect original\n",
    "b[0] = 200\n",
    "print(a)\n",
    "print(b)"
   ]
  },
  {
   "cell_type": "code",
   "execution_count": 26,
   "id": "2e030ec1",
   "metadata": {},
   "outputs": [
    {
     "name": "stdout",
     "output_type": "stream",
     "text": [
      "[300   2   3   4]\n",
      "[200   2   3   4]\n"
     ]
    }
   ],
   "source": [
    "##using copy method \n",
    "\n",
    "b = a.copy()\n",
    "b[0] = 300\n",
    "print(b)\n",
    "print(a)"
   ]
  },
  {
   "cell_type": "markdown",
   "id": "7961cfdb",
   "metadata": {},
   "source": [
    "## Mathematics "
   ]
  },
  {
   "cell_type": "code",
   "execution_count": 27,
   "id": "46423528",
   "metadata": {},
   "outputs": [
    {
     "name": "stdout",
     "output_type": "stream",
     "text": [
      "[4 5 6 8]\n",
      "[0 1 2 4]\n",
      "[1 1 2 3]\n",
      "[  8  27  64 216]\n",
      "[0 1 1 2]\n"
     ]
    }
   ],
   "source": [
    "arr = np.array([2,3,4,6],dtype=\"int32\")\n",
    "print(arr+2)\n",
    "print(arr-2)\n",
    "print(arr//2)\n",
    "print(arr**3)\n",
    "print(arr//3)\n",
    "#we can use sin,cos and other trignometric functions here"
   ]
  },
  {
   "cell_type": "code",
   "execution_count": 28,
   "id": "b4061c4d",
   "metadata": {},
   "outputs": [
    {
     "data": {
      "text/plain": [
       "array([210,  13,  15,  18])"
      ]
     },
     "execution_count": 28,
     "metadata": {},
     "output_type": "execute_result"
    }
   ],
   "source": [
    "b = np.array([10,11,12,14])\n",
    "a+b\n"
   ]
  },
  {
   "cell_type": "markdown",
   "id": "5e9a5a58",
   "metadata": {},
   "source": [
    "## Linear Algebra"
   ]
  },
  {
   "cell_type": "code",
   "execution_count": 29,
   "id": "9630f58e",
   "metadata": {},
   "outputs": [
    {
     "name": "stdout",
     "output_type": "stream",
     "text": [
      "[[1. 1. 1.]\n",
      " [1. 1. 1.]]\n",
      "[[7 7 7]\n",
      " [7 7 7]]\n",
      "[[7. 7. 7.]\n",
      " [7. 7. 7.]]\n"
     ]
    }
   ],
   "source": [
    "a = np.ones((2,3))\n",
    "b = np.full((2,3),7)\n",
    "\n",
    "\n",
    "print(a)\n",
    "print(b)\n",
    "c =a+b\n",
    "c= a*b\n",
    "print(c)"
   ]
  },
  {
   "cell_type": "markdown",
   "id": "57ac42bf",
   "metadata": {},
   "source": [
    "## Multiplication "
   ]
  },
  {
   "cell_type": "code",
   "execution_count": 30,
   "id": "bee26b25",
   "metadata": {},
   "outputs": [],
   "source": [
    "#Rule: A and B two matrices. Number of columns of A matrix is equal to the \n",
    "# number of rows of second Matrix. "
   ]
  },
  {
   "cell_type": "code",
   "execution_count": 31,
   "id": "b688226a",
   "metadata": {},
   "outputs": [
    {
     "data": {
      "text/plain": [
       "array([[12., 12.],\n",
       "       [12., 12.]])"
      ]
     },
     "execution_count": 31,
     "metadata": {},
     "output_type": "execute_result"
    }
   ],
   "source": [
    "a = np.full((2,3),4)\n",
    "b = np.ones((3,2))\n",
    "np.matmul(a,b)"
   ]
  },
  {
   "cell_type": "code",
   "execution_count": null,
   "id": "d3546e5a",
   "metadata": {},
   "outputs": [],
   "source": []
  }
 ],
 "metadata": {
  "kernelspec": {
   "display_name": "Python 3 (ipykernel)",
   "language": "python",
   "name": "python3"
  },
  "language_info": {
   "codemirror_mode": {
    "name": "ipython",
    "version": 3
   },
   "file_extension": ".py",
   "mimetype": "text/x-python",
   "name": "python",
   "nbconvert_exporter": "python",
   "pygments_lexer": "ipython3",
   "version": "3.10.9"
  }
 },
 "nbformat": 4,
 "nbformat_minor": 5
}
