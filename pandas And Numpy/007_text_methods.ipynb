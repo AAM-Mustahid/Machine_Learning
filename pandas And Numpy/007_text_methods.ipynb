{
 "cells": [
  {
   "cell_type": "code",
   "execution_count": 1,
   "id": "16046794-69ac-484f-9bce-26a70275f2d2",
   "metadata": {},
   "outputs": [],
   "source": [
    "import pandas as pd\n",
    "import numpy as np\n"
   ]
  },
  {
   "cell_type": "markdown",
   "id": "dc987f8a-d8e3-4314-bc2e-28f1e4d3553b",
   "metadata": {},
   "source": [
    "## Text method on pandas string column"
   ]
  },
  {
   "cell_type": "code",
   "execution_count": 2,
   "id": "10ca1fba-8d77-4d08-a47a-d15bc7597f24",
   "metadata": {},
   "outputs": [],
   "source": [
    "data = {\n",
    "    'Student_Name': ['Alice', 'Bob', 'Charlie', 'David', 'Emma', 'Frank', 'Grace'],\n",
    "    'Age': ['22', '21', '23', '24', '20', '22', '25'],\n",
    "    'Grade': ['A', 'B', 'C', 'B', 'A', 'A', 'B']\n",
    "}"
   ]
  },
  {
   "cell_type": "code",
   "execution_count": 3,
   "id": "aa919f87-6640-4ff0-a5d0-dd7ea8c53253",
   "metadata": {},
   "outputs": [
    {
     "data": {
      "text/plain": [
       "dict"
      ]
     },
     "execution_count": 3,
     "metadata": {},
     "output_type": "execute_result"
    }
   ],
   "source": [
    "type(data)"
   ]
  },
  {
   "cell_type": "code",
   "execution_count": null,
   "id": "3301e1a9-66dd-4353-885a-825246983872",
   "metadata": {},
   "outputs": [],
   "source": []
  },
  {
   "cell_type": "code",
   "execution_count": 4,
   "id": "550c3527-8360-4a03-8f11-74094472e135",
   "metadata": {},
   "outputs": [
    {
     "data": {
      "text/html": [
       "<div>\n",
       "<style scoped>\n",
       "    .dataframe tbody tr th:only-of-type {\n",
       "        vertical-align: middle;\n",
       "    }\n",
       "\n",
       "    .dataframe tbody tr th {\n",
       "        vertical-align: top;\n",
       "    }\n",
       "\n",
       "    .dataframe thead th {\n",
       "        text-align: right;\n",
       "    }\n",
       "</style>\n",
       "<table border=\"1\" class=\"dataframe\">\n",
       "  <thead>\n",
       "    <tr style=\"text-align: right;\">\n",
       "      <th></th>\n",
       "      <th>Student_Name</th>\n",
       "      <th>Age</th>\n",
       "      <th>Grade</th>\n",
       "    </tr>\n",
       "  </thead>\n",
       "  <tbody>\n",
       "    <tr>\n",
       "      <th>0</th>\n",
       "      <td>Alice</td>\n",
       "      <td>22</td>\n",
       "      <td>A</td>\n",
       "    </tr>\n",
       "    <tr>\n",
       "      <th>1</th>\n",
       "      <td>Bob</td>\n",
       "      <td>21</td>\n",
       "      <td>B</td>\n",
       "    </tr>\n",
       "    <tr>\n",
       "      <th>2</th>\n",
       "      <td>Charlie</td>\n",
       "      <td>23</td>\n",
       "      <td>C</td>\n",
       "    </tr>\n",
       "    <tr>\n",
       "      <th>3</th>\n",
       "      <td>David</td>\n",
       "      <td>24</td>\n",
       "      <td>B</td>\n",
       "    </tr>\n",
       "    <tr>\n",
       "      <th>4</th>\n",
       "      <td>Emma</td>\n",
       "      <td>20</td>\n",
       "      <td>A</td>\n",
       "    </tr>\n",
       "    <tr>\n",
       "      <th>5</th>\n",
       "      <td>Frank</td>\n",
       "      <td>22</td>\n",
       "      <td>A</td>\n",
       "    </tr>\n",
       "    <tr>\n",
       "      <th>6</th>\n",
       "      <td>Grace</td>\n",
       "      <td>25</td>\n",
       "      <td>B</td>\n",
       "    </tr>\n",
       "  </tbody>\n",
       "</table>\n",
       "</div>"
      ],
      "text/plain": [
       "  Student_Name Age Grade\n",
       "0        Alice  22     A\n",
       "1          Bob  21     B\n",
       "2      Charlie  23     C\n",
       "3        David  24     B\n",
       "4         Emma  20     A\n",
       "5        Frank  22     A\n",
       "6        Grace  25     B"
      ]
     },
     "execution_count": 4,
     "metadata": {},
     "output_type": "execute_result"
    }
   ],
   "source": [
    "data = pd.DataFrame(data)\n",
    "data"
   ]
  },
  {
   "cell_type": "code",
   "execution_count": 5,
   "id": "1e86c1af-28cb-4f4b-9d14-84062c40df1a",
   "metadata": {},
   "outputs": [
    {
     "data": {
      "text/plain": [
       "0      Alice\n",
       "1        Bob\n",
       "2    Charlie\n",
       "3      David\n",
       "4       Emma\n",
       "5      Frank\n",
       "6      Grace\n",
       "Name: Student_Name, dtype: object"
      ]
     },
     "execution_count": 5,
     "metadata": {},
     "output_type": "execute_result"
    }
   ],
   "source": [
    "data['Student_Name']"
   ]
  },
  {
   "cell_type": "code",
   "execution_count": 6,
   "id": "22819f36-5592-4ba0-8445-f517f780b7fc",
   "metadata": {},
   "outputs": [
    {
     "data": {
      "text/plain": [
       "0    GOOG,APPL,AMZN\n",
       "1        JPM,BAC,GS\n",
       "dtype: object"
      ]
     },
     "execution_count": 6,
     "metadata": {},
     "output_type": "execute_result"
    }
   ],
   "source": [
    "tech_finance = ['GOOG,APPL,AMZN','JPM,BAC,GS']\n",
    "tickers = pd.Series(tech_finance)\n",
    "tickers\n"
   ]
  },
  {
   "cell_type": "code",
   "execution_count": 7,
   "id": "36509fb9-3f29-4833-a15c-969145feb9c4",
   "metadata": {},
   "outputs": [
    {
     "data": {
      "text/plain": [
       "0    [GOOG,APPL,AMZN]\n",
       "1        [JPM,BAC,GS]\n",
       "dtype: object"
      ]
     },
     "execution_count": 7,
     "metadata": {},
     "output_type": "execute_result"
    }
   ],
   "source": [
    "tickers.str.split()"
   ]
  },
  {
   "cell_type": "code",
   "execution_count": null,
   "id": "694c1e1d-22b5-446c-b480-41e24d0d3c95",
   "metadata": {},
   "outputs": [],
   "source": []
  },
  {
   "cell_type": "code",
   "execution_count": 19,
   "id": "6d587b0d-f257-43fd-a61d-b9714517d27c",
   "metadata": {},
   "outputs": [],
   "source": [
    "#spliting text\n",
    "tech_finance = ['GOOG,APPL,AMZN','JPM,BAC,GS']"
   ]
  },
  {
   "cell_type": "code",
   "execution_count": 20,
   "id": "9e3adeb5-6d9d-4ec6-b52e-c269d63e768c",
   "metadata": {},
   "outputs": [],
   "source": [
    "tick = pd.Series(tech_finance)"
   ]
  },
  {
   "cell_type": "code",
   "execution_count": 21,
   "id": "1de20bdb-995f-4495-a81d-f790995a0636",
   "metadata": {},
   "outputs": [
    {
     "data": {
      "text/plain": [
       "0    GOOG,APPL,AMZN\n",
       "1        JPM,BAC,GS\n",
       "dtype: object"
      ]
     },
     "execution_count": 21,
     "metadata": {},
     "output_type": "execute_result"
    }
   ],
   "source": [
    "tick"
   ]
  },
  {
   "cell_type": "code",
   "execution_count": 23,
   "id": "71d337c3-6430-4fb9-abb4-bbfe7ab070c2",
   "metadata": {},
   "outputs": [
    {
     "data": {
      "text/plain": [
       "0    GOOG\n",
       "1     JPM\n",
       "dtype: object"
      ]
     },
     "execution_count": 23,
     "metadata": {},
     "output_type": "execute_result"
    }
   ],
   "source": [
    "tick.str.split(',').str[0]"
   ]
  },
  {
   "cell_type": "code",
   "execution_count": 24,
   "id": "b236a944-04e7-455a-af12-d1515982db4f",
   "metadata": {},
   "outputs": [
    {
     "data": {
      "text/html": [
       "<div>\n",
       "<style scoped>\n",
       "    .dataframe tbody tr th:only-of-type {\n",
       "        vertical-align: middle;\n",
       "    }\n",
       "\n",
       "    .dataframe tbody tr th {\n",
       "        vertical-align: top;\n",
       "    }\n",
       "\n",
       "    .dataframe thead th {\n",
       "        text-align: right;\n",
       "    }\n",
       "</style>\n",
       "<table border=\"1\" class=\"dataframe\">\n",
       "  <thead>\n",
       "    <tr style=\"text-align: right;\">\n",
       "      <th></th>\n",
       "      <th>0</th>\n",
       "      <th>1</th>\n",
       "      <th>2</th>\n",
       "    </tr>\n",
       "  </thead>\n",
       "  <tbody>\n",
       "    <tr>\n",
       "      <th>0</th>\n",
       "      <td>GOOG</td>\n",
       "      <td>APPL</td>\n",
       "      <td>AMZN</td>\n",
       "    </tr>\n",
       "    <tr>\n",
       "      <th>1</th>\n",
       "      <td>JPM</td>\n",
       "      <td>BAC</td>\n",
       "      <td>GS</td>\n",
       "    </tr>\n",
       "  </tbody>\n",
       "</table>\n",
       "</div>"
      ],
      "text/plain": [
       "      0     1     2\n",
       "0  GOOG  APPL  AMZN\n",
       "1   JPM   BAC    GS"
      ]
     },
     "execution_count": 24,
     "metadata": {},
     "output_type": "execute_result"
    }
   ],
   "source": [
    "tick.str.split(',',expand = True)"
   ]
  },
  {
   "cell_type": "markdown",
   "id": "5b31580b-3877-4be2-935b-c5cfc97e71da",
   "metadata": {},
   "source": [
    "### Cleaning or Editing Strings"
   ]
  },
  {
   "cell_type": "code",
   "execution_count": 25,
   "id": "28fac10b-8f39-42e8-ae4d-d3f6f455f9cb",
   "metadata": {},
   "outputs": [],
   "source": [
    "wrong_names = pd.Series([\"andrew  \",\"bo;bo\",\"  claire  \"])"
   ]
  },
  {
   "cell_type": "code",
   "execution_count": 29,
   "id": "889c3b08-3a15-4d46-a40b-faafa80473b3",
   "metadata": {},
   "outputs": [
    {
     "data": {
      "text/plain": [
       "0      andrew  \n",
       "1          bobo\n",
       "2      claire  \n",
       "dtype: object"
      ]
     },
     "execution_count": 29,
     "metadata": {},
     "output_type": "execute_result"
    }
   ],
   "source": [
    "#names are unreal and it seems it is not like real name\n",
    "wrong_names.str.replace(';','')"
   ]
  },
  {
   "cell_type": "code",
   "execution_count": 31,
   "id": "07338f86-2eab-402b-b223-d05efa25fee7",
   "metadata": {},
   "outputs": [
    {
     "data": {
      "text/plain": [
       "0    andrew\n",
       "1      bobo\n",
       "2    claire\n",
       "dtype: object"
      ]
     },
     "execution_count": 31,
     "metadata": {},
     "output_type": "execute_result"
    }
   ],
   "source": [
    "wrong_names.str.strip().str.replace(';','')"
   ]
  },
  {
   "cell_type": "code",
   "execution_count": 38,
   "id": "2cb7e64e-3580-4fcb-affe-e3ac1aaf5c4d",
   "metadata": {},
   "outputs": [],
   "source": [
    "s2 = pd.Series([\"a_b_c\", \"c_d_e\", np.nan, \"f_g_h\"], dtype=\"string\")"
   ]
  },
  {
   "cell_type": "markdown",
   "id": "c66a84d9-0ada-449f-af5e-6ced617c2687",
   "metadata": {},
   "source": [
    "s2.str.split('_')"
   ]
  },
  {
   "cell_type": "code",
   "execution_count": 45,
   "id": "eae23b4a-4736-474b-b596-99e40f49d010",
   "metadata": {},
   "outputs": [],
   "source": [
    "d = s2.str.split('_',expand = True)"
   ]
  },
  {
   "cell_type": "code",
   "execution_count": 47,
   "id": "666977ed-77cc-481d-8ef4-43b3b238d17e",
   "metadata": {},
   "outputs": [],
   "source": [
    "d.columns = ['u1','u2','u3']\n"
   ]
  },
  {
   "cell_type": "code",
   "execution_count": 48,
   "id": "b7fa0a4b-5597-4f7d-9a7c-4e73c6f4f1b5",
   "metadata": {},
   "outputs": [
    {
     "data": {
      "text/html": [
       "<div>\n",
       "<style scoped>\n",
       "    .dataframe tbody tr th:only-of-type {\n",
       "        vertical-align: middle;\n",
       "    }\n",
       "\n",
       "    .dataframe tbody tr th {\n",
       "        vertical-align: top;\n",
       "    }\n",
       "\n",
       "    .dataframe thead th {\n",
       "        text-align: right;\n",
       "    }\n",
       "</style>\n",
       "<table border=\"1\" class=\"dataframe\">\n",
       "  <thead>\n",
       "    <tr style=\"text-align: right;\">\n",
       "      <th></th>\n",
       "      <th>u1</th>\n",
       "      <th>u2</th>\n",
       "      <th>u3</th>\n",
       "    </tr>\n",
       "  </thead>\n",
       "  <tbody>\n",
       "    <tr>\n",
       "      <th>0</th>\n",
       "      <td>a</td>\n",
       "      <td>b</td>\n",
       "      <td>c</td>\n",
       "    </tr>\n",
       "    <tr>\n",
       "      <th>1</th>\n",
       "      <td>c</td>\n",
       "      <td>d</td>\n",
       "      <td>e</td>\n",
       "    </tr>\n",
       "    <tr>\n",
       "      <th>2</th>\n",
       "      <td>&lt;NA&gt;</td>\n",
       "      <td>&lt;NA&gt;</td>\n",
       "      <td>&lt;NA&gt;</td>\n",
       "    </tr>\n",
       "    <tr>\n",
       "      <th>3</th>\n",
       "      <td>f</td>\n",
       "      <td>g</td>\n",
       "      <td>h</td>\n",
       "    </tr>\n",
       "  </tbody>\n",
       "</table>\n",
       "</div>"
      ],
      "text/plain": [
       "     u1    u2    u3\n",
       "0     a     b     c\n",
       "1     c     d     e\n",
       "2  <NA>  <NA>  <NA>\n",
       "3     f     g     h"
      ]
     },
     "execution_count": 48,
     "metadata": {},
     "output_type": "execute_result"
    }
   ],
   "source": [
    "d"
   ]
  },
  {
   "cell_type": "markdown",
   "id": "c2d401d7-dbda-489b-bd62-c8993824d544",
   "metadata": {},
   "source": [
    "#### use custom function with apply() method"
   ]
  },
  {
   "cell_type": "code",
   "execution_count": 49,
   "id": "accf2df0-c4bb-40bf-a84e-1b6e4b226faf",
   "metadata": {},
   "outputs": [],
   "source": [
    "def clean_up(col):\n",
    "    col = col.replace(\";\",'')\n",
    "    col = col.strip()\n",
    "    return col"
   ]
  },
  {
   "cell_type": "code",
   "execution_count": 50,
   "id": "3470902e-1de7-4802-b312-2548633f03ac",
   "metadata": {},
   "outputs": [
    {
     "data": {
      "text/plain": [
       "0    andrew\n",
       "1      bobo\n",
       "2    claire\n",
       "dtype: object"
      ]
     },
     "execution_count": 50,
     "metadata": {},
     "output_type": "execute_result"
    }
   ],
   "source": [
    "wrong_names.apply(clean_up)"
   ]
  },
  {
   "cell_type": "code",
   "execution_count": 51,
   "id": "e382f594-1c45-4410-9ede-8b9acb2a49ea",
   "metadata": {},
   "outputs": [],
   "source": [
    "vector = np.vectorize(clean_up)"
   ]
  },
  {
   "cell_type": "code",
   "execution_count": 54,
   "id": "539392ed-2eb1-451d-b59c-e8fa803d698b",
   "metadata": {},
   "outputs": [],
   "source": [
    "l = vector(wrong_names)"
   ]
  },
  {
   "cell_type": "code",
   "execution_count": 55,
   "id": "33e513da-8cf6-44c2-aae4-f11d3d26dbf3",
   "metadata": {},
   "outputs": [
    {
     "data": {
      "text/html": [
       "<div>\n",
       "<style scoped>\n",
       "    .dataframe tbody tr th:only-of-type {\n",
       "        vertical-align: middle;\n",
       "    }\n",
       "\n",
       "    .dataframe tbody tr th {\n",
       "        vertical-align: top;\n",
       "    }\n",
       "\n",
       "    .dataframe thead th {\n",
       "        text-align: right;\n",
       "    }\n",
       "</style>\n",
       "<table border=\"1\" class=\"dataframe\">\n",
       "  <thead>\n",
       "    <tr style=\"text-align: right;\">\n",
       "      <th></th>\n",
       "      <th>0</th>\n",
       "    </tr>\n",
       "  </thead>\n",
       "  <tbody>\n",
       "    <tr>\n",
       "      <th>0</th>\n",
       "      <td>andrew</td>\n",
       "    </tr>\n",
       "    <tr>\n",
       "      <th>1</th>\n",
       "      <td>bobo</td>\n",
       "    </tr>\n",
       "    <tr>\n",
       "      <th>2</th>\n",
       "      <td>claire</td>\n",
       "    </tr>\n",
       "  </tbody>\n",
       "</table>\n",
       "</div>"
      ],
      "text/plain": [
       "        0\n",
       "0  andrew\n",
       "1    bobo\n",
       "2  claire"
      ]
     },
     "execution_count": 55,
     "metadata": {},
     "output_type": "execute_result"
    }
   ],
   "source": [
    "pd.DataFrame(l)"
   ]
  },
  {
   "cell_type": "code",
   "execution_count": null,
   "id": "fe886daf-619b-4afa-a385-2e71c70a4054",
   "metadata": {},
   "outputs": [],
   "source": []
  },
  {
   "cell_type": "code",
   "execution_count": null,
   "id": "d92ae764-8f71-44ce-9f82-354703c5610a",
   "metadata": {},
   "outputs": [],
   "source": []
  },
  {
   "cell_type": "code",
   "execution_count": null,
   "id": "bab2372f-4ab9-4d1b-98dd-98e836f6ec7a",
   "metadata": {},
   "outputs": [],
   "source": []
  },
  {
   "cell_type": "code",
   "execution_count": null,
   "id": "48b9a883-7c1a-40bb-be1a-52349a9f1306",
   "metadata": {},
   "outputs": [],
   "source": []
  },
  {
   "cell_type": "code",
   "execution_count": null,
   "id": "dbc053b5-948f-4d03-8322-5e76c9b08420",
   "metadata": {},
   "outputs": [],
   "source": []
  },
  {
   "cell_type": "code",
   "execution_count": null,
   "id": "c0110ef6-b10c-42a0-8c4e-e87118cc8d92",
   "metadata": {},
   "outputs": [],
   "source": []
  },
  {
   "cell_type": "code",
   "execution_count": null,
   "id": "b6b95c30-3a32-4e11-bdc4-569498a2573e",
   "metadata": {},
   "outputs": [],
   "source": []
  },
  {
   "cell_type": "code",
   "execution_count": null,
   "id": "a603b843-99ae-4421-9dc6-83a1e13cb455",
   "metadata": {},
   "outputs": [],
   "source": []
  },
  {
   "cell_type": "code",
   "execution_count": null,
   "id": "327a76aa-0443-4912-9b56-d7c70310bd34",
   "metadata": {},
   "outputs": [],
   "source": []
  },
  {
   "cell_type": "code",
   "execution_count": null,
   "id": "266ef3ea-3ddb-4cff-915d-2053a5231b4e",
   "metadata": {},
   "outputs": [],
   "source": []
  },
  {
   "cell_type": "code",
   "execution_count": null,
   "id": "4467bf03-daaf-4bf7-9ef0-cb8eefc34da2",
   "metadata": {},
   "outputs": [],
   "source": []
  },
  {
   "cell_type": "code",
   "execution_count": null,
   "id": "39986e92-4d56-42b1-b5ab-e4dd5f72ba9b",
   "metadata": {},
   "outputs": [],
   "source": []
  },
  {
   "cell_type": "code",
   "execution_count": null,
   "id": "24705fcb-f16d-4fe7-9572-a2c132bb836b",
   "metadata": {},
   "outputs": [],
   "source": []
  },
  {
   "cell_type": "code",
   "execution_count": null,
   "id": "d2b4c5e8-589b-49c6-93d9-99411dc691de",
   "metadata": {},
   "outputs": [],
   "source": []
  },
  {
   "cell_type": "code",
   "execution_count": null,
   "id": "dc6cdca6-206e-4baa-b2e2-dc048b513e57",
   "metadata": {},
   "outputs": [],
   "source": []
  },
  {
   "cell_type": "code",
   "execution_count": null,
   "id": "052dbfc7-e06e-4530-9ad3-1595faf3dfc2",
   "metadata": {},
   "outputs": [],
   "source": []
  },
  {
   "cell_type": "code",
   "execution_count": null,
   "id": "66118774-98a1-49cb-aac4-919faa557e2d",
   "metadata": {},
   "outputs": [],
   "source": []
  },
  {
   "cell_type": "code",
   "execution_count": null,
   "id": "1631775e-f936-4eba-9a25-23ca108e874e",
   "metadata": {},
   "outputs": [],
   "source": []
  },
  {
   "cell_type": "code",
   "execution_count": null,
   "id": "3cec4f3a-6506-4f41-8404-d99bc509beb1",
   "metadata": {},
   "outputs": [],
   "source": []
  },
  {
   "cell_type": "code",
   "execution_count": null,
   "id": "90571dfa-a0b6-4684-8397-c9ae61ccb860",
   "metadata": {},
   "outputs": [],
   "source": []
  },
  {
   "cell_type": "code",
   "execution_count": null,
   "id": "43f1a4e5-57f5-4d8a-85b9-653a1ac341ce",
   "metadata": {},
   "outputs": [],
   "source": []
  },
  {
   "cell_type": "code",
   "execution_count": null,
   "id": "c57b1544-3dd6-4ee3-9a59-c748ebd92465",
   "metadata": {},
   "outputs": [],
   "source": []
  },
  {
   "cell_type": "code",
   "execution_count": null,
   "id": "fc6cf3dd-cd22-405c-a35a-abf592b43fce",
   "metadata": {},
   "outputs": [],
   "source": []
  },
  {
   "cell_type": "code",
   "execution_count": null,
   "id": "7ac10f54-59a5-4e53-9c6a-78cb31158518",
   "metadata": {},
   "outputs": [],
   "source": []
  },
  {
   "cell_type": "code",
   "execution_count": null,
   "id": "4306a0a0-820f-43eb-b75b-c8a80fccff81",
   "metadata": {},
   "outputs": [],
   "source": []
  }
 ],
 "metadata": {
  "kernelspec": {
   "display_name": "Python 3 (ipykernel)",
   "language": "python",
   "name": "python3"
  },
  "language_info": {
   "codemirror_mode": {
    "name": "ipython",
    "version": 3
   },
   "file_extension": ".py",
   "mimetype": "text/x-python",
   "name": "python",
   "nbconvert_exporter": "python",
   "pygments_lexer": "ipython3",
   "version": "3.10.12"
  }
 },
 "nbformat": 4,
 "nbformat_minor": 5
}
