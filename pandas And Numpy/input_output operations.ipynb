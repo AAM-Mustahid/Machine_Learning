{
 "cells": [
  {
   "cell_type": "code",
   "execution_count": 1,
   "id": "925afac1-e125-414f-bf7d-291a937e33c5",
   "metadata": {},
   "outputs": [],
   "source": [
    "import pandas as pd\n",
    "import numpy as np \n"
   ]
  },
  {
   "cell_type": "markdown",
   "id": "cffca49a-5e28-41a9-a7f1-616380d2ac92",
   "metadata": {},
   "source": [
    "### Read and Write CSV Files"
   ]
  },
  {
   "cell_type": "code",
   "execution_count": 2,
   "id": "0397b71c-dc43-4a7e-b951-9fc2fe95021c",
   "metadata": {},
   "outputs": [],
   "source": [
    "data = {\n",
    "    'Column1': [10, 20, 30, 40, 50],\n",
    "    'Column2': [1.5, 2.5, 3.5, 4.5, 5.5],\n",
    "    'Column3': ['A', 'B', 'C', 'D', 'E']\n",
    "}\n",
    "\n",
    "\n",
    "df = pd.DataFrame(data)"
   ]
  },
  {
   "cell_type": "code",
   "execution_count": 3,
   "id": "dfcefc26-4bde-49eb-a567-22b4c95933af",
   "metadata": {},
   "outputs": [],
   "source": [
    "df = df.set_index('Column1')"
   ]
  },
  {
   "cell_type": "code",
   "execution_count": 4,
   "id": "a27f476c-83ba-44bf-8586-93eb12d4b082",
   "metadata": {},
   "outputs": [
    {
     "data": {
      "text/html": [
       "<div>\n",
       "<style scoped>\n",
       "    .dataframe tbody tr th:only-of-type {\n",
       "        vertical-align: middle;\n",
       "    }\n",
       "\n",
       "    .dataframe tbody tr th {\n",
       "        vertical-align: top;\n",
       "    }\n",
       "\n",
       "    .dataframe thead th {\n",
       "        text-align: right;\n",
       "    }\n",
       "</style>\n",
       "<table border=\"1\" class=\"dataframe\">\n",
       "  <thead>\n",
       "    <tr style=\"text-align: right;\">\n",
       "      <th></th>\n",
       "      <th>Column2</th>\n",
       "      <th>Column3</th>\n",
       "    </tr>\n",
       "    <tr>\n",
       "      <th>Column1</th>\n",
       "      <th></th>\n",
       "      <th></th>\n",
       "    </tr>\n",
       "  </thead>\n",
       "  <tbody>\n",
       "    <tr>\n",
       "      <th>10</th>\n",
       "      <td>1.5</td>\n",
       "      <td>A</td>\n",
       "    </tr>\n",
       "    <tr>\n",
       "      <th>20</th>\n",
       "      <td>2.5</td>\n",
       "      <td>B</td>\n",
       "    </tr>\n",
       "    <tr>\n",
       "      <th>30</th>\n",
       "      <td>3.5</td>\n",
       "      <td>C</td>\n",
       "    </tr>\n",
       "    <tr>\n",
       "      <th>40</th>\n",
       "      <td>4.5</td>\n",
       "      <td>D</td>\n",
       "    </tr>\n",
       "    <tr>\n",
       "      <th>50</th>\n",
       "      <td>5.5</td>\n",
       "      <td>E</td>\n",
       "    </tr>\n",
       "  </tbody>\n",
       "</table>\n",
       "</div>"
      ],
      "text/plain": [
       "         Column2 Column3\n",
       "Column1                 \n",
       "10           1.5       A\n",
       "20           2.5       B\n",
       "30           3.5       C\n",
       "40           4.5       D\n",
       "50           5.5       E"
      ]
     },
     "execution_count": 4,
     "metadata": {},
     "output_type": "execute_result"
    }
   ],
   "source": [
    "df"
   ]
  },
  {
   "cell_type": "code",
   "execution_count": 5,
   "id": "fdbd3284-f169-4002-8bd0-77c38814335a",
   "metadata": {},
   "outputs": [],
   "source": [
    "df.to_csv('test.csv',index = False)"
   ]
  },
  {
   "cell_type": "code",
   "execution_count": 6,
   "id": "d1269f72-8878-4283-b672-740e4ef71325",
   "metadata": {},
   "outputs": [],
   "source": [
    "df = pd.read_csv(r'/home/mustahid34/Downloads/test.csv')\n"
   ]
  },
  {
   "cell_type": "code",
   "execution_count": 7,
   "id": "5a2154c7-4920-4443-9fe9-16d3939b0908",
   "metadata": {},
   "outputs": [
    {
     "data": {
      "text/html": [
       "<div>\n",
       "<style scoped>\n",
       "    .dataframe tbody tr th:only-of-type {\n",
       "        vertical-align: middle;\n",
       "    }\n",
       "\n",
       "    .dataframe tbody tr th {\n",
       "        vertical-align: top;\n",
       "    }\n",
       "\n",
       "    .dataframe thead th {\n",
       "        text-align: right;\n",
       "    }\n",
       "</style>\n",
       "<table border=\"1\" class=\"dataframe\">\n",
       "  <thead>\n",
       "    <tr style=\"text-align: right;\">\n",
       "      <th></th>\n",
       "      <th>Column2</th>\n",
       "      <th>Column3</th>\n",
       "    </tr>\n",
       "  </thead>\n",
       "  <tbody>\n",
       "    <tr>\n",
       "      <th>0</th>\n",
       "      <td>1.5</td>\n",
       "      <td>A</td>\n",
       "    </tr>\n",
       "    <tr>\n",
       "      <th>1</th>\n",
       "      <td>2.5</td>\n",
       "      <td>B</td>\n",
       "    </tr>\n",
       "    <tr>\n",
       "      <th>2</th>\n",
       "      <td>3.5</td>\n",
       "      <td>C</td>\n",
       "    </tr>\n",
       "    <tr>\n",
       "      <th>3</th>\n",
       "      <td>4.5</td>\n",
       "      <td>D</td>\n",
       "    </tr>\n",
       "    <tr>\n",
       "      <th>4</th>\n",
       "      <td>5.5</td>\n",
       "      <td>E</td>\n",
       "    </tr>\n",
       "  </tbody>\n",
       "</table>\n",
       "</div>"
      ],
      "text/plain": [
       "   Column2 Column3\n",
       "0      1.5       A\n",
       "1      2.5       B\n",
       "2      3.5       C\n",
       "3      4.5       D\n",
       "4      5.5       E"
      ]
     },
     "execution_count": 7,
     "metadata": {},
     "output_type": "execute_result"
    }
   ],
   "source": [
    "df"
   ]
  },
  {
   "cell_type": "markdown",
   "id": "a9ab2b83-5142-4335-8e9d-cd5209b149f1",
   "metadata": {},
   "source": [
    "### Read Html file "
   ]
  },
  {
   "cell_type": "code",
   "execution_count": 8,
   "id": "189e5a41-b396-435a-86d5-f9417e9ddc0d",
   "metadata": {},
   "outputs": [],
   "source": [
    "#first trying to copy population table from wiki by URL\n",
    "url = 'https://en.wikipedia.org/wiki/World_population'\n"
   ]
  },
  {
   "cell_type": "code",
   "execution_count": 9,
   "id": "6b905aa6-62dd-46dc-9b3f-6bd4be9679b9",
   "metadata": {},
   "outputs": [],
   "source": [
    "tables = pd.read_html(url)"
   ]
  },
  {
   "cell_type": "markdown",
   "id": "39c07caf-ee80-4753-8aee-dbd73815f166",
   "metadata": {},
   "source": [
    "pip install lxml\n",
    "\n",
    "for running html url this package must be installed in environment\n"
   ]
  },
  {
   "cell_type": "code",
   "execution_count": 10,
   "id": "d370ab67-ebab-48e1-8de1-4e2b32b7f65c",
   "metadata": {},
   "outputs": [
    {
     "data": {
      "text/plain": [
       "30"
      ]
     },
     "execution_count": 10,
     "metadata": {},
     "output_type": "execute_result"
    }
   ],
   "source": [
    "len(tables)"
   ]
  },
  {
   "cell_type": "code",
   "execution_count": 11,
   "id": "ee2b27a4-d6cb-4ae0-9575-984db057b19e",
   "metadata": {},
   "outputs": [],
   "source": [
    "massy_data = tables[4]"
   ]
  },
  {
   "cell_type": "code",
   "execution_count": 12,
   "id": "58d81fda-7de6-4f69-9411-e46dbab2bf26",
   "metadata": {},
   "outputs": [
    {
     "data": {
      "text/html": [
       "<div>\n",
       "<style scoped>\n",
       "    .dataframe tbody tr th:only-of-type {\n",
       "        vertical-align: middle;\n",
       "    }\n",
       "\n",
       "    .dataframe tbody tr th {\n",
       "        vertical-align: top;\n",
       "    }\n",
       "\n",
       "    .dataframe thead th {\n",
       "        text-align: right;\n",
       "    }\n",
       "</style>\n",
       "<table border=\"1\" class=\"dataframe\">\n",
       "  <thead>\n",
       "    <tr style=\"text-align: right;\">\n",
       "      <th></th>\n",
       "      <th>Country / Dependency</th>\n",
       "      <th>Population</th>\n",
       "      <th>% of world</th>\n",
       "      <th>Date</th>\n",
       "      <th>Source (official or from the United Nations)</th>\n",
       "    </tr>\n",
       "  </thead>\n",
       "  <tbody>\n",
       "    <tr>\n",
       "      <th>0</th>\n",
       "      <td>NaN</td>\n",
       "      <td>NaN</td>\n",
       "      <td>NaN</td>\n",
       "      <td>NaN</td>\n",
       "      <td>NaN</td>\n",
       "    </tr>\n",
       "    <tr>\n",
       "      <th>1</th>\n",
       "      <td>India</td>\n",
       "      <td>1.425776e+09</td>\n",
       "      <td>NaN</td>\n",
       "      <td>14 Apr 2023</td>\n",
       "      <td>UN projection[92]</td>\n",
       "    </tr>\n",
       "    <tr>\n",
       "      <th>2</th>\n",
       "      <td>China</td>\n",
       "      <td>1.412600e+09</td>\n",
       "      <td>NaN</td>\n",
       "      <td>31 Dec 2021</td>\n",
       "      <td>National annual estimate[93]</td>\n",
       "    </tr>\n",
       "    <tr>\n",
       "      <th>3</th>\n",
       "      <td>United States</td>\n",
       "      <td>3.360785e+08</td>\n",
       "      <td>NaN</td>\n",
       "      <td>13 Feb 2024</td>\n",
       "      <td>National population clock[94]</td>\n",
       "    </tr>\n",
       "    <tr>\n",
       "      <th>4</th>\n",
       "      <td>Indonesia</td>\n",
       "      <td>2.786962e+08</td>\n",
       "      <td>NaN</td>\n",
       "      <td>1 Jul 2023</td>\n",
       "      <td>National annual estimate[95]</td>\n",
       "    </tr>\n",
       "    <tr>\n",
       "      <th>5</th>\n",
       "      <td>Pakistan</td>\n",
       "      <td>2.294890e+08</td>\n",
       "      <td>NaN</td>\n",
       "      <td>1 Jul 2022</td>\n",
       "      <td>UN projection[96]</td>\n",
       "    </tr>\n",
       "    <tr>\n",
       "      <th>6</th>\n",
       "      <td>Nigeria</td>\n",
       "      <td>2.167469e+08</td>\n",
       "      <td>NaN</td>\n",
       "      <td>1 Jul 2022</td>\n",
       "      <td>UN projection[96]</td>\n",
       "    </tr>\n",
       "    <tr>\n",
       "      <th>7</th>\n",
       "      <td>Brazil</td>\n",
       "      <td>2.172787e+08</td>\n",
       "      <td>NaN</td>\n",
       "      <td>13 Feb 2024</td>\n",
       "      <td>National population clock[97]</td>\n",
       "    </tr>\n",
       "    <tr>\n",
       "      <th>8</th>\n",
       "      <td>Bangladesh</td>\n",
       "      <td>1.682200e+08</td>\n",
       "      <td>NaN</td>\n",
       "      <td>1 Jul 2020</td>\n",
       "      <td>Annual Population Estimate[98]</td>\n",
       "    </tr>\n",
       "    <tr>\n",
       "      <th>9</th>\n",
       "      <td>Russia</td>\n",
       "      <td>1.471900e+08</td>\n",
       "      <td>NaN</td>\n",
       "      <td>1 Oct 2021</td>\n",
       "      <td>2021 preliminary census results[99]</td>\n",
       "    </tr>\n",
       "    <tr>\n",
       "      <th>10</th>\n",
       "      <td>Mexico</td>\n",
       "      <td>1.282712e+08</td>\n",
       "      <td>NaN</td>\n",
       "      <td>31 Mar 2022</td>\n",
       "      <td>NaN</td>\n",
       "    </tr>\n",
       "  </tbody>\n",
       "</table>\n",
       "</div>"
      ],
      "text/plain": [
       "   Country / Dependency    Population  % of world         Date  \\\n",
       "0                   NaN           NaN         NaN          NaN   \n",
       "1                 India  1.425776e+09         NaN  14 Apr 2023   \n",
       "2                 China  1.412600e+09         NaN  31 Dec 2021   \n",
       "3         United States  3.360785e+08         NaN  13 Feb 2024   \n",
       "4             Indonesia  2.786962e+08         NaN   1 Jul 2023   \n",
       "5              Pakistan  2.294890e+08         NaN   1 Jul 2022   \n",
       "6               Nigeria  2.167469e+08         NaN   1 Jul 2022   \n",
       "7                Brazil  2.172787e+08         NaN  13 Feb 2024   \n",
       "8            Bangladesh  1.682200e+08         NaN   1 Jul 2020   \n",
       "9                Russia  1.471900e+08         NaN   1 Oct 2021   \n",
       "10               Mexico  1.282712e+08         NaN  31 Mar 2022   \n",
       "\n",
       "   Source (official or from the United Nations)  \n",
       "0                                           NaN  \n",
       "1                             UN projection[92]  \n",
       "2                  National annual estimate[93]  \n",
       "3                 National population clock[94]  \n",
       "4                  National annual estimate[95]  \n",
       "5                             UN projection[96]  \n",
       "6                             UN projection[96]  \n",
       "7                 National population clock[97]  \n",
       "8                Annual Population Estimate[98]  \n",
       "9           2021 preliminary census results[99]  \n",
       "10                                          NaN  "
      ]
     },
     "execution_count": 12,
     "metadata": {},
     "output_type": "execute_result"
    }
   ],
   "source": [
    "massy_data"
   ]
  },
  {
   "cell_type": "code",
   "execution_count": null,
   "id": "a68bcb8f-d806-4b56-8677-3af5005d84de",
   "metadata": {},
   "outputs": [],
   "source": []
  },
  {
   "cell_type": "code",
   "execution_count": 13,
   "id": "2b6b1420-1eee-4926-a026-dfd5634f868a",
   "metadata": {},
   "outputs": [
    {
     "data": {
      "text/html": [
       "<div>\n",
       "<style scoped>\n",
       "    .dataframe tbody tr th:only-of-type {\n",
       "        vertical-align: middle;\n",
       "    }\n",
       "\n",
       "    .dataframe tbody tr th {\n",
       "        vertical-align: top;\n",
       "    }\n",
       "\n",
       "    .dataframe thead th {\n",
       "        text-align: right;\n",
       "    }\n",
       "</style>\n",
       "<table border=\"1\" class=\"dataframe\">\n",
       "  <thead>\n",
       "    <tr style=\"text-align: right;\">\n",
       "      <th></th>\n",
       "      <th>Country / Dependency</th>\n",
       "      <th>Population</th>\n",
       "      <th>% of world</th>\n",
       "      <th>Date</th>\n",
       "      <th>Source (official or from the United Nations)</th>\n",
       "    </tr>\n",
       "  </thead>\n",
       "  <tbody>\n",
       "    <tr>\n",
       "      <th>0</th>\n",
       "      <td>NaN</td>\n",
       "      <td>NaN</td>\n",
       "      <td>NaN</td>\n",
       "      <td>NaN</td>\n",
       "      <td>NaN</td>\n",
       "    </tr>\n",
       "    <tr>\n",
       "      <th>1</th>\n",
       "      <td>India</td>\n",
       "      <td>1.425776e+09</td>\n",
       "      <td>NaN</td>\n",
       "      <td>14 Apr 2023</td>\n",
       "      <td>UN projection[92]</td>\n",
       "    </tr>\n",
       "    <tr>\n",
       "      <th>2</th>\n",
       "      <td>China</td>\n",
       "      <td>1.412600e+09</td>\n",
       "      <td>NaN</td>\n",
       "      <td>31 Dec 2021</td>\n",
       "      <td>National annual estimate[93]</td>\n",
       "    </tr>\n",
       "    <tr>\n",
       "      <th>3</th>\n",
       "      <td>United States</td>\n",
       "      <td>3.360785e+08</td>\n",
       "      <td>NaN</td>\n",
       "      <td>13 Feb 2024</td>\n",
       "      <td>National population clock[94]</td>\n",
       "    </tr>\n",
       "    <tr>\n",
       "      <th>4</th>\n",
       "      <td>Indonesia</td>\n",
       "      <td>2.786962e+08</td>\n",
       "      <td>NaN</td>\n",
       "      <td>1 Jul 2023</td>\n",
       "      <td>National annual estimate[95]</td>\n",
       "    </tr>\n",
       "    <tr>\n",
       "      <th>5</th>\n",
       "      <td>Pakistan</td>\n",
       "      <td>2.294890e+08</td>\n",
       "      <td>NaN</td>\n",
       "      <td>1 Jul 2022</td>\n",
       "      <td>UN projection[96]</td>\n",
       "    </tr>\n",
       "    <tr>\n",
       "      <th>6</th>\n",
       "      <td>Nigeria</td>\n",
       "      <td>2.167469e+08</td>\n",
       "      <td>NaN</td>\n",
       "      <td>1 Jul 2022</td>\n",
       "      <td>UN projection[96]</td>\n",
       "    </tr>\n",
       "    <tr>\n",
       "      <th>7</th>\n",
       "      <td>Brazil</td>\n",
       "      <td>2.172787e+08</td>\n",
       "      <td>NaN</td>\n",
       "      <td>13 Feb 2024</td>\n",
       "      <td>National population clock[97]</td>\n",
       "    </tr>\n",
       "    <tr>\n",
       "      <th>8</th>\n",
       "      <td>Bangladesh</td>\n",
       "      <td>1.682200e+08</td>\n",
       "      <td>NaN</td>\n",
       "      <td>1 Jul 2020</td>\n",
       "      <td>Annual Population Estimate[98]</td>\n",
       "    </tr>\n",
       "    <tr>\n",
       "      <th>9</th>\n",
       "      <td>Russia</td>\n",
       "      <td>1.471900e+08</td>\n",
       "      <td>NaN</td>\n",
       "      <td>1 Oct 2021</td>\n",
       "      <td>2021 preliminary census results[99]</td>\n",
       "    </tr>\n",
       "    <tr>\n",
       "      <th>10</th>\n",
       "      <td>Mexico</td>\n",
       "      <td>1.282712e+08</td>\n",
       "      <td>NaN</td>\n",
       "      <td>31 Mar 2022</td>\n",
       "      <td>NaN</td>\n",
       "    </tr>\n",
       "  </tbody>\n",
       "</table>\n",
       "</div>"
      ],
      "text/plain": [
       "   Country / Dependency    Population  % of world         Date  \\\n",
       "0                   NaN           NaN         NaN          NaN   \n",
       "1                 India  1.425776e+09         NaN  14 Apr 2023   \n",
       "2                 China  1.412600e+09         NaN  31 Dec 2021   \n",
       "3         United States  3.360785e+08         NaN  13 Feb 2024   \n",
       "4             Indonesia  2.786962e+08         NaN   1 Jul 2023   \n",
       "5              Pakistan  2.294890e+08         NaN   1 Jul 2022   \n",
       "6               Nigeria  2.167469e+08         NaN   1 Jul 2022   \n",
       "7                Brazil  2.172787e+08         NaN  13 Feb 2024   \n",
       "8            Bangladesh  1.682200e+08         NaN   1 Jul 2020   \n",
       "9                Russia  1.471900e+08         NaN   1 Oct 2021   \n",
       "10               Mexico  1.282712e+08         NaN  31 Mar 2022   \n",
       "\n",
       "   Source (official or from the United Nations)  \n",
       "0                                           NaN  \n",
       "1                             UN projection[92]  \n",
       "2                  National annual estimate[93]  \n",
       "3                 National population clock[94]  \n",
       "4                  National annual estimate[95]  \n",
       "5                             UN projection[96]  \n",
       "6                             UN projection[96]  \n",
       "7                 National population clock[97]  \n",
       "8                Annual Population Estimate[98]  \n",
       "9           2021 preliminary census results[99]  \n",
       "10                                          NaN  "
      ]
     },
     "execution_count": 13,
     "metadata": {},
     "output_type": "execute_result"
    }
   ],
   "source": [
    "massy_data"
   ]
  },
  {
   "cell_type": "code",
   "execution_count": 14,
   "id": "acd8f0f3-6118-44db-8d5a-d9919f90c189",
   "metadata": {},
   "outputs": [],
   "source": [
    "massy_data.dropna(thresh = 2,inplace = True)"
   ]
  },
  {
   "cell_type": "code",
   "execution_count": 15,
   "id": "0d91419c-19b8-4f6d-9140-9f7f083831d0",
   "metadata": {},
   "outputs": [],
   "source": [
    "data = massy_data.drop('% of world',axis = 1)"
   ]
  },
  {
   "cell_type": "code",
   "execution_count": 16,
   "id": "66c31a99-0272-4243-8e7b-7f8c0fb179cf",
   "metadata": {},
   "outputs": [
    {
     "data": {
      "text/html": [
       "<div>\n",
       "<style scoped>\n",
       "    .dataframe tbody tr th:only-of-type {\n",
       "        vertical-align: middle;\n",
       "    }\n",
       "\n",
       "    .dataframe tbody tr th {\n",
       "        vertical-align: top;\n",
       "    }\n",
       "\n",
       "    .dataframe thead th {\n",
       "        text-align: right;\n",
       "    }\n",
       "</style>\n",
       "<table border=\"1\" class=\"dataframe\">\n",
       "  <thead>\n",
       "    <tr style=\"text-align: right;\">\n",
       "      <th></th>\n",
       "      <th>Country / Dependency</th>\n",
       "      <th>Population</th>\n",
       "      <th>Date</th>\n",
       "      <th>Source (official or from the United Nations)</th>\n",
       "    </tr>\n",
       "  </thead>\n",
       "  <tbody>\n",
       "    <tr>\n",
       "      <th>1</th>\n",
       "      <td>India</td>\n",
       "      <td>1.425776e+09</td>\n",
       "      <td>14 Apr 2023</td>\n",
       "      <td>UN projection[92]</td>\n",
       "    </tr>\n",
       "    <tr>\n",
       "      <th>2</th>\n",
       "      <td>China</td>\n",
       "      <td>1.412600e+09</td>\n",
       "      <td>31 Dec 2021</td>\n",
       "      <td>National annual estimate[93]</td>\n",
       "    </tr>\n",
       "    <tr>\n",
       "      <th>3</th>\n",
       "      <td>United States</td>\n",
       "      <td>3.360785e+08</td>\n",
       "      <td>13 Feb 2024</td>\n",
       "      <td>National population clock[94]</td>\n",
       "    </tr>\n",
       "    <tr>\n",
       "      <th>4</th>\n",
       "      <td>Indonesia</td>\n",
       "      <td>2.786962e+08</td>\n",
       "      <td>1 Jul 2023</td>\n",
       "      <td>National annual estimate[95]</td>\n",
       "    </tr>\n",
       "    <tr>\n",
       "      <th>5</th>\n",
       "      <td>Pakistan</td>\n",
       "      <td>2.294890e+08</td>\n",
       "      <td>1 Jul 2022</td>\n",
       "      <td>UN projection[96]</td>\n",
       "    </tr>\n",
       "    <tr>\n",
       "      <th>6</th>\n",
       "      <td>Nigeria</td>\n",
       "      <td>2.167469e+08</td>\n",
       "      <td>1 Jul 2022</td>\n",
       "      <td>UN projection[96]</td>\n",
       "    </tr>\n",
       "    <tr>\n",
       "      <th>7</th>\n",
       "      <td>Brazil</td>\n",
       "      <td>2.172787e+08</td>\n",
       "      <td>13 Feb 2024</td>\n",
       "      <td>National population clock[97]</td>\n",
       "    </tr>\n",
       "    <tr>\n",
       "      <th>8</th>\n",
       "      <td>Bangladesh</td>\n",
       "      <td>1.682200e+08</td>\n",
       "      <td>1 Jul 2020</td>\n",
       "      <td>Annual Population Estimate[98]</td>\n",
       "    </tr>\n",
       "    <tr>\n",
       "      <th>9</th>\n",
       "      <td>Russia</td>\n",
       "      <td>1.471900e+08</td>\n",
       "      <td>1 Oct 2021</td>\n",
       "      <td>2021 preliminary census results[99]</td>\n",
       "    </tr>\n",
       "    <tr>\n",
       "      <th>10</th>\n",
       "      <td>Mexico</td>\n",
       "      <td>1.282712e+08</td>\n",
       "      <td>31 Mar 2022</td>\n",
       "      <td>NaN</td>\n",
       "    </tr>\n",
       "  </tbody>\n",
       "</table>\n",
       "</div>"
      ],
      "text/plain": [
       "   Country / Dependency    Population         Date  \\\n",
       "1                 India  1.425776e+09  14 Apr 2023   \n",
       "2                 China  1.412600e+09  31 Dec 2021   \n",
       "3         United States  3.360785e+08  13 Feb 2024   \n",
       "4             Indonesia  2.786962e+08   1 Jul 2023   \n",
       "5              Pakistan  2.294890e+08   1 Jul 2022   \n",
       "6               Nigeria  2.167469e+08   1 Jul 2022   \n",
       "7                Brazil  2.172787e+08  13 Feb 2024   \n",
       "8            Bangladesh  1.682200e+08   1 Jul 2020   \n",
       "9                Russia  1.471900e+08   1 Oct 2021   \n",
       "10               Mexico  1.282712e+08  31 Mar 2022   \n",
       "\n",
       "   Source (official or from the United Nations)  \n",
       "1                             UN projection[92]  \n",
       "2                  National annual estimate[93]  \n",
       "3                 National population clock[94]  \n",
       "4                  National annual estimate[95]  \n",
       "5                             UN projection[96]  \n",
       "6                             UN projection[96]  \n",
       "7                 National population clock[97]  \n",
       "8                Annual Population Estimate[98]  \n",
       "9           2021 preliminary census results[99]  \n",
       "10                                          NaN  "
      ]
     },
     "execution_count": 16,
     "metadata": {},
     "output_type": "execute_result"
    }
   ],
   "source": [
    "data"
   ]
  },
  {
   "cell_type": "code",
   "execution_count": 17,
   "id": "fac6d97c-82ea-454f-9d3b-2a35f81f9c6d",
   "metadata": {},
   "outputs": [
    {
     "name": "stdout",
     "output_type": "stream",
     "text": [
      "<class 'pandas.core.frame.DataFrame'>\n",
      "Int64Index: 10 entries, 1 to 10\n",
      "Data columns (total 4 columns):\n",
      " #   Column                                        Non-Null Count  Dtype  \n",
      "---  ------                                        --------------  -----  \n",
      " 0   Country / Dependency                          10 non-null     object \n",
      " 1   Population                                    10 non-null     float64\n",
      " 2   Date                                          10 non-null     object \n",
      " 3   Source (official or from the United Nations)  9 non-null      object \n",
      "dtypes: float64(1), object(3)\n",
      "memory usage: 400.0+ bytes\n"
     ]
    }
   ],
   "source": [
    "data.info()"
   ]
  },
  {
   "cell_type": "code",
   "execution_count": 18,
   "id": "151f93bc-ae97-4727-8c28-772d0ae022ad",
   "metadata": {},
   "outputs": [],
   "source": [
    "data['Date'] = pd.to_datetime( data['Date'])"
   ]
  },
  {
   "cell_type": "code",
   "execution_count": 19,
   "id": "48e66a44-4b94-4681-b0c2-918c9431ce5e",
   "metadata": {},
   "outputs": [
    {
     "name": "stdout",
     "output_type": "stream",
     "text": [
      "<class 'pandas.core.frame.DataFrame'>\n",
      "Int64Index: 10 entries, 1 to 10\n",
      "Data columns (total 4 columns):\n",
      " #   Column                                        Non-Null Count  Dtype         \n",
      "---  ------                                        --------------  -----         \n",
      " 0   Country / Dependency                          10 non-null     object        \n",
      " 1   Population                                    10 non-null     float64       \n",
      " 2   Date                                          10 non-null     datetime64[ns]\n",
      " 3   Source (official or from the United Nations)  9 non-null      object        \n",
      "dtypes: datetime64[ns](1), float64(1), object(2)\n",
      "memory usage: 400.0+ bytes\n"
     ]
    }
   ],
   "source": [
    "data.info()"
   ]
  },
  {
   "cell_type": "markdown",
   "id": "e37389d4-d2fd-445a-9dff-b2813b770255",
   "metadata": {},
   "source": [
    "data"
   ]
  },
  {
   "cell_type": "code",
   "execution_count": 20,
   "id": "a41ae82e-337d-4acf-bfb1-f690ed95200c",
   "metadata": {},
   "outputs": [],
   "source": [
    "data.to_csv('population1.csv',index= False)\n",
    "#to convert in html \n",
    "data.to_html('population.html',index= False)"
   ]
  },
  {
   "cell_type": "code",
   "execution_count": null,
   "id": "f5b17345-ddf5-4116-9320-590299c203a5",
   "metadata": {},
   "outputs": [],
   "source": []
  },
  {
   "cell_type": "code",
   "execution_count": null,
   "id": "b4516e85-f5e2-428a-a95b-302f2af65457",
   "metadata": {},
   "outputs": [],
   "source": []
  },
  {
   "cell_type": "markdown",
   "id": "04078f44-46bf-4229-af92-b5eef173b749",
   "metadata": {},
   "source": [
    "## Excel Files\n"
   ]
  },
  {
   "cell_type": "code",
   "execution_count": 21,
   "id": "14cc1094-2c33-4257-a2a6-9f7b75c6f4cb",
   "metadata": {},
   "outputs": [
    {
     "ename": "SyntaxError",
     "evalue": "invalid syntax (1758798051.py, line 2)",
     "output_type": "error",
     "traceback": [
      "\u001b[0;36m  Cell \u001b[0;32mIn[21], line 2\u001b[0;36m\u001b[0m\n\u001b[0;31m    pip install openpyxl\u001b[0m\n\u001b[0m        ^\u001b[0m\n\u001b[0;31mSyntaxError\u001b[0m\u001b[0;31m:\u001b[0m invalid syntax\n"
     ]
    }
   ],
   "source": [
    "#to read excel files, some package must be installed in environment\n",
    "pip install openpyxl"
   ]
  },
  {
   "cell_type": "code",
   "execution_count": 22,
   "id": "9de70788-c113-4076-89ac-dd28e116cb1b",
   "metadata": {},
   "outputs": [],
   "source": [
    "#pip install openpyxl"
   ]
  },
  {
   "cell_type": "code",
   "execution_count": 23,
   "id": "795492e2-94c6-4aa4-b0c7-cef44c8ce12a",
   "metadata": {},
   "outputs": [],
   "source": [
    "#pip install xlrd"
   ]
  },
  {
   "cell_type": "code",
   "execution_count": 24,
   "id": "273146e4-201b-4705-b904-f8819cf8e496",
   "metadata": {},
   "outputs": [],
   "source": [
    "xl = pd.read_excel(r'/home/mustahid34/Downloads/example.xlsx')"
   ]
  },
  {
   "cell_type": "code",
   "execution_count": 25,
   "id": "13b084f4-7838-40a8-837c-2eef300104c4",
   "metadata": {},
   "outputs": [
    {
     "data": {
      "text/html": [
       "<div>\n",
       "<style scoped>\n",
       "    .dataframe tbody tr th:only-of-type {\n",
       "        vertical-align: middle;\n",
       "    }\n",
       "\n",
       "    .dataframe tbody tr th {\n",
       "        vertical-align: top;\n",
       "    }\n",
       "\n",
       "    .dataframe thead th {\n",
       "        text-align: right;\n",
       "    }\n",
       "</style>\n",
       "<table border=\"1\" class=\"dataframe\">\n",
       "  <thead>\n",
       "    <tr style=\"text-align: right;\">\n",
       "      <th></th>\n",
       "      <th>a</th>\n",
       "      <th>b</th>\n",
       "      <th>c</th>\n",
       "      <th>d</th>\n",
       "    </tr>\n",
       "  </thead>\n",
       "  <tbody>\n",
       "    <tr>\n",
       "      <th>0</th>\n",
       "      <td>0</td>\n",
       "      <td>1</td>\n",
       "      <td>2</td>\n",
       "      <td>3</td>\n",
       "    </tr>\n",
       "    <tr>\n",
       "      <th>1</th>\n",
       "      <td>4</td>\n",
       "      <td>5</td>\n",
       "      <td>6</td>\n",
       "      <td>7</td>\n",
       "    </tr>\n",
       "    <tr>\n",
       "      <th>2</th>\n",
       "      <td>8</td>\n",
       "      <td>9</td>\n",
       "      <td>10</td>\n",
       "      <td>11</td>\n",
       "    </tr>\n",
       "    <tr>\n",
       "      <th>3</th>\n",
       "      <td>12</td>\n",
       "      <td>13</td>\n",
       "      <td>14</td>\n",
       "      <td>15</td>\n",
       "    </tr>\n",
       "  </tbody>\n",
       "</table>\n",
       "</div>"
      ],
      "text/plain": [
       "    a   b   c   d\n",
       "0   0   1   2   3\n",
       "1   4   5   6   7\n",
       "2   8   9  10  11\n",
       "3  12  13  14  15"
      ]
     },
     "execution_count": 25,
     "metadata": {},
     "output_type": "execute_result"
    }
   ],
   "source": [
    "xl"
   ]
  },
  {
   "cell_type": "code",
   "execution_count": 26,
   "id": "41dd1b1e-028d-4875-b67b-41f1d4b00333",
   "metadata": {},
   "outputs": [
    {
     "data": {
      "text/plain": [
       "pandas.core.frame.DataFrame"
      ]
     },
     "execution_count": 26,
     "metadata": {},
     "output_type": "execute_result"
    }
   ],
   "source": [
    "type(xl)"
   ]
  },
  {
   "cell_type": "code",
   "execution_count": null,
   "id": "d4bc52e5-50a0-4b81-be3d-60da5d00d29f",
   "metadata": {},
   "outputs": [],
   "source": []
  },
  {
   "cell_type": "code",
   "execution_count": null,
   "id": "dd695f4b-3372-49ff-97bb-c703efa85e25",
   "metadata": {},
   "outputs": [],
   "source": []
  },
  {
   "cell_type": "code",
   "execution_count": null,
   "id": "b2e37a7f-0405-44d0-ab51-a5842415783d",
   "metadata": {},
   "outputs": [],
   "source": []
  },
  {
   "cell_type": "code",
   "execution_count": null,
   "id": "cd0ae541-5509-4a93-b030-88721fcd32c1",
   "metadata": {},
   "outputs": [],
   "source": []
  },
  {
   "cell_type": "code",
   "execution_count": null,
   "id": "5d1ba7e9-bfe3-4a85-a39d-7e0ce52aca40",
   "metadata": {},
   "outputs": [],
   "source": []
  }
 ],
 "metadata": {
  "kernelspec": {
   "display_name": "Python 3 (ipykernel)",
   "language": "python",
   "name": "python3"
  },
  "language_info": {
   "codemirror_mode": {
    "name": "ipython",
    "version": 3
   },
   "file_extension": ".py",
   "mimetype": "text/x-python",
   "name": "python",
   "nbconvert_exporter": "python",
   "pygments_lexer": "ipython3",
   "version": "3.10.12"
  }
 },
 "nbformat": 4,
 "nbformat_minor": 5
}
